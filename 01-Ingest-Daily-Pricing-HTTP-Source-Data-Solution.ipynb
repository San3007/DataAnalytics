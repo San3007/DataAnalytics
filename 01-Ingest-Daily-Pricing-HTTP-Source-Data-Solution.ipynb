{
 "cells": [
  {
   "cell_type": "code",
   "execution_count": 0,
   "metadata": {
    "application/vnd.databricks.v1+cell": {
     "cellMetadata": {
      "byteLimit": 2048000,
      "rowLimit": 10000
     },
     "inputWidgets": {},
     "nuid": "3bb5264d-e987-4750-944b-da530e69ddc8",
     "showTitle": false,
     "tableResultSettingsMap": {},
     "title": ""
    }
   },
   "outputs": [],
   "source": [
    "processName=dbutils.widgets.get('prm_processName')\n",
    "\n",
    "nextSourceFileDateSql=f\"\"\"select nvl(max(PROCESSED_FILE_TABLE_DATE)+1,'2023-01-01') as NEXT_SOURCE_FILE_DATE from pricing_analytics.processrunlogs.delta_lakehouse_process_runs\n",
    "where PROCESS_NAME = '{processName}' and PROCESS_STATUS='Completed'\"\"\"\n",
    "\n",
    "nextSourceFileDF=spark.sql(nextSourceFileDateSql)\n",
    "\n"
   ]
  },
  {
   "cell_type": "code",
   "execution_count": 0,
   "metadata": {
    "application/vnd.databricks.v1+cell": {
     "cellMetadata": {
      "byteLimit": 2048000,
      "rowLimit": 10000
     },
     "inputWidgets": {},
     "nuid": "d78277d8-1d12-4fa1-b9dc-f5a12edce716",
     "showTitle": false,
     "tableResultSettingsMap": {},
     "title": ""
    }
   },
   "outputs": [],
   "source": [
    "from datetime import datetime\n",
    "\n",
    "\n",
    "\n"
   ]
  },
  {
   "cell_type": "code",
   "execution_count": 0,
   "metadata": {
    "application/vnd.databricks.v1+cell": {
     "cellMetadata": {
      "byteLimit": 2048000,
      "rowLimit": 10000
     },
     "inputWidgets": {},
     "nuid": "2bf253a9-b5a8-4677-8a56-06980d60c385",
     "showTitle": false,
     "tableResultSettingsMap": {},
     "title": ""
    }
   },
   "outputs": [],
   "source": [
    "dailyPricingSourceBaseURL=\"https://retailpricing.blob.core.windows.net/\"\n",
    "dailyPricingSourceFolder=\"daily-pricing/\"\n",
    "dailyPricingSourceFileDate=datetime.strptime(str(nextSourceFileDF.select('NEXT_SOURCE_FILE_DATE').collect()[0]['NEXT_SOURCE_FILE_DATE']), '%Y-%m-%d').strftime('%d%m%Y')\n",
    "dailyPricingSourceFileName=f\"PW_MW_DR_{dailyPricingSourceFileDate}.csv\"\n",
    "\n",
    "\n",
    "\n",
    "\n",
    "dailyPricingSinkLayerNAme=\"bronze\"\n",
    "dailyPricingSinkStorageAccountName=\"stp1dev\"\n",
    "dailyPricingSinkFolderName=\"daily-pricing\"\n"
   ]
  },
  {
   "cell_type": "code",
   "execution_count": 0,
   "metadata": {
    "application/vnd.databricks.v1+cell": {
     "cellMetadata": {
      "byteLimit": 2048000,
      "rowLimit": 10000
     },
     "inputWidgets": {},
     "nuid": "5363af13-ab04-4038-8470-5c7bf57d53cc",
     "showTitle": false,
     "tableResultSettingsMap": {},
     "title": ""
    }
   },
   "outputs": [],
   "source": [
    "import pandas as pd"
   ]
  },
  {
   "cell_type": "code",
   "execution_count": 0,
   "metadata": {
    "application/vnd.databricks.v1+cell": {
     "cellMetadata": {
      "byteLimit": 2048000,
      "rowLimit": 10000
     },
     "inputWidgets": {},
     "nuid": "7bc36493-cc56-40f7-9b52-cc4704a8af93",
     "showTitle": false,
     "tableResultSettingsMap": {},
     "title": ""
    }
   },
   "outputs": [],
   "source": [
    "dailyPricingSourceURL=dailyPricingSourceBaseURL+dailyPricingSourceFolder+dailyPricingSourceFileName\n"
   ]
  },
  {
   "cell_type": "code",
   "execution_count": 0,
   "metadata": {
    "application/vnd.databricks.v1+cell": {
     "cellMetadata": {
      "byteLimit": 2048000,
      "rowLimit": 10000
     },
     "inputWidgets": {},
     "nuid": "44da75db-6c32-40db-bb2d-c9f08c3f2a37",
     "showTitle": false,
     "tableResultSettingsMap": {},
     "title": ""
    }
   },
   "outputs": [],
   "source": [
    "dailyPricingPandasDF=pd.read_csv(dailyPricingSourceURL)\n"
   ]
  },
  {
   "cell_type": "code",
   "execution_count": 0,
   "metadata": {
    "application/vnd.databricks.v1+cell": {
     "cellMetadata": {
      "byteLimit": 2048000,
      "rowLimit": 10000
     },
     "inputWidgets": {},
     "nuid": "daf51e3e-8433-4547-8dba-2fa67955377d",
     "showTitle": false,
     "tableResultSettingsMap": {},
     "title": ""
    }
   },
   "outputs": [],
   "source": [
    "dailyPricingSparkDF=spark.createDataFrame(dailyPricingPandasDF)\n"
   ]
  },
  {
   "cell_type": "code",
   "execution_count": 0,
   "metadata": {
    "application/vnd.databricks.v1+cell": {
     "cellMetadata": {
      "byteLimit": 2048000,
      "rowLimit": 10000
     },
     "inputWidgets": {},
     "nuid": "c3857ea9-dd47-4526-b2fe-c180ea7bf835",
     "showTitle": false,
     "tableResultSettingsMap": {},
     "title": ""
    }
   },
   "outputs": [],
   "source": [
    "from pyspark.sql.functions import *\n",
    "\n",
    "dailyPricingSinkFolderPath = f\"abfss://{dailyPricingSinkLayerNAme}@{dailyPricingSinkStorageAccountName}.dfs.core.windows.net/{dailyPricingSinkFolderName}\"\n",
    "\n",
    "dailyPricingSparkDF.withColumn(\"source_file_load_date\", current_timestamp()) \\\n",
    "                   .write \\\n",
    "                   .format(\"csv\") \\\n",
    "                   .mode(\"append\") \\\n",
    "                   .option(\"header\", \"true\") \\\n",
    "                   .save(dailyPricingSinkFolderPath)"
   ]
  },
  {
   "cell_type": "code",
   "execution_count": 0,
   "metadata": {
    "application/vnd.databricks.v1+cell": {
     "cellMetadata": {
      "byteLimit": 2048000,
      "rowLimit": 10000
     },
     "inputWidgets": {},
     "nuid": "693a002d-b5e8-4395-b5e3-3e3064390c75",
     "showTitle": false,
     "tableResultSettingsMap": {},
     "title": ""
    }
   },
   "outputs": [],
   "source": [
    "\n",
    "processFileDate=nextSourceFileDF.select('NEXT_SOURCE_FILE_DATE').collect()[0]['NEXT_SOURCE_FILE_DATE']\n",
    "processStatus=\"Completed\"\n",
    "processInsertSql=f\"\"\"insert into pricing_analytics.processrunlogs.DELTA_LAKEHOUSE_PROCESS_RUNS(PROCESS_NAME,PROCESSED_FILE_TABLE_DATE,PROCESS_STATUS) values('{processName}','{processFileDate}','{processStatus}') \"\"\"\n",
    "\n",
    "spark.sql(processInsertSql)"
   ]
  }
 ],
 "metadata": {
  "application/vnd.databricks.v1+notebook": {
   "computePreferences": null,
   "dashboards": [],
   "environmentMetadata": {
    "base_environment": "",
    "environment_version": "2"
   },
   "inputWidgetPreferences": null,
   "language": "python",
   "notebookMetadata": {
    "mostRecentlyExecutedCommandWithImplicitDF": {
     "commandId": 5568482648630118,
     "dataframes": [
      "_sqldf"
     ]
    },
    "pythonIndentUnit": 4
   },
   "notebookName": "01-Ingest-Daily-Pricing-HTTP-Source-Data-Solution",
   "widgets": {
    "prm_processName": {
     "currentValue": "dailyPricingSourceIngest",
     "nuid": "8f641282-806f-4a79-b1cf-45e9d4112c15",
     "typedWidgetInfo": {
      "autoCreated": false,
      "defaultValue": "",
      "label": "",
      "name": "prm_processName",
      "options": {
       "widgetDisplayType": "Text",
       "validationRegex": null
      },
      "parameterDataType": "String"
     },
     "widgetInfo": {
      "widgetType": "text",
      "defaultValue": "",
      "label": "",
      "name": "prm_processName",
      "options": {
       "widgetType": "text",
       "autoCreated": false,
       "validationRegex": null
      }
     }
    }
   }
  },
  "language_info": {
   "name": "python"
  }
 },
 "nbformat": 4,
 "nbformat_minor": 0
}
