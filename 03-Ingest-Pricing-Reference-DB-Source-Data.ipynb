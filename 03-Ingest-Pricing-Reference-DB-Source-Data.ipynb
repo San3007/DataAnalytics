{
 "cells": [
  {
   "cell_type": "code",
   "execution_count": 0,
   "metadata": {
    "application/vnd.databricks.v1+cell": {
     "cellMetadata": {
      "byteLimit": 2048000,
      "rowLimit": 10000
     },
     "inputWidgets": {},
     "nuid": "90a6fd3d-8ef6-4bd3-ab8d-d01498f47926",
     "showTitle": false,
     "tableResultSettingsMap": {},
     "title": ""
    }
   },
   "outputs": [],
   "source": [
    "pricingReferenceSourceTableName=dbutils.widgets.get(\"prm_pricingReferenceSourceTableName\")\n",
    "pricingReferenceSinkLayerNAme=\"bronze\"\n",
    "pricingReferenceSinkStorageAccountName=\"stp1dev\"\n",
    "pricingReferenceSinkFolderName=\"reference-data\""
   ]
  },
  {
   "cell_type": "code",
   "execution_count": 0,
   "metadata": {
    "application/vnd.databricks.v1+cell": {
     "cellMetadata": {
      "byteLimit": 2048000,
      "rowLimit": 10000
     },
     "inputWidgets": {},
     "nuid": "cda1147c-abc9-489c-8699-529cae6e80fe",
     "showTitle": false,
     "tableResultSettingsMap": {},
     "title": ""
    }
   },
   "outputs": [],
   "source": [
    "JDBCconnectionUrl = \"jdbc:sqlserver://asqludacoursesserver.database.windows.net;encrypt=true;databaseName=asqludacourses;user=sourcereader;password=DBReader@2024\";\n",
    "\n",
    "# JDBCconnectionUrl=dbutils.secrets.get(scope = \"azure-key-vault-scope\", key = \"JDBCconnectionUrlSecret\")\n",
    "# print(JDBCconnectionUrl)\n",
    "\n",
    "\n",
    "\n",
    "\n",
    "\n",
    "\n"
   ]
  },
  {
   "cell_type": "code",
   "execution_count": 0,
   "metadata": {
    "application/vnd.databricks.v1+cell": {
     "cellMetadata": {
      "byteLimit": 2048000,
      "rowLimit": 10000
     },
     "inputWidgets": {},
     "nuid": "eb270b0a-a594-4fb0-80ee-425234f0e244",
     "showTitle": false,
     "tableResultSettingsMap": {},
     "title": ""
    }
   },
   "outputs": [],
   "source": [
    "pricingReferenceSorceTableDF=(spark.read\n",
    "                              .format(\"jdbc\")\n",
    "                              .option(\"url\",JDBCconnectionUrl)\n",
    "                              .option(\"dbtable\",pricingReferenceSourceTableName)\n",
    "                              .load()\n",
    "                              )\n"
   ]
  },
  {
   "cell_type": "code",
   "execution_count": 0,
   "metadata": {
    "application/vnd.databricks.v1+cell": {
     "cellMetadata": {
      "byteLimit": 2048000,
      "rowLimit": 10000
     },
     "inputWidgets": {},
     "nuid": "58a92f9b-cf72-4ba3-bccb-e42e4a637979",
     "showTitle": false,
     "tableResultSettingsMap": {},
     "title": ""
    }
   },
   "outputs": [],
   "source": [
    "pricingReferenceSinkTableName=pricingReferenceSourceTableName.replace(\".\",\"/\")"
   ]
  },
  {
   "cell_type": "code",
   "execution_count": 0,
   "metadata": {
    "application/vnd.databricks.v1+cell": {
     "cellMetadata": {
      "byteLimit": 2048000,
      "rowLimit": 10000
     },
     "inputWidgets": {},
     "nuid": "f951a93c-e480-4131-8102-a495b16d8493",
     "showTitle": false,
     "tableResultSettingsMap": {},
     "title": ""
    }
   },
   "outputs": [],
   "source": [
    "pricingReferenceSinkFolderPath = f\"abfss://{pricingReferenceSinkLayerNAme}@{pricingReferenceSinkStorageAccountName}.dfs.core.windows.net/{pricingReferenceSinkFolderName}/{pricingReferenceSinkTableName}\"\n",
    "\n",
    "(pricingReferenceSorceTableDF\n",
    ".write\n",
    ".mode(\"overwrite\")\n",
    ".json(pricingReferenceSinkFolderPath)\n",
    ")"
   ]
  }
 ],
 "metadata": {
  "application/vnd.databricks.v1+notebook": {
   "computePreferences": null,
   "dashboards": [],
   "environmentMetadata": {
    "base_environment": "",
    "environment_version": "2"
   },
   "inputWidgetPreferences": null,
   "language": "python",
   "notebookMetadata": {
    "pythonIndentUnit": 4
   },
   "notebookName": "03-Ingest-Pricing-Reference-DB-Source-Data",
   "widgets": {
    "prm_pricingReferenceSourceTableName": {
     "currentValue": "masterdata.country_profile",
     "nuid": "a326c075-6310-4412-b491-ad10f57d10e0",
     "typedWidgetInfo": {
      "autoCreated": false,
      "defaultValue": "",
      "label": "",
      "name": "prm_pricingReferenceSourceTableName",
      "options": {
       "widgetDisplayType": "Text",
       "validationRegex": null
      },
      "parameterDataType": "String"
     },
     "widgetInfo": {
      "widgetType": "text",
      "defaultValue": "",
      "label": "",
      "name": "prm_pricingReferenceSourceTableName",
      "options": {
       "widgetType": "text",
       "autoCreated": false,
       "validationRegex": null
      }
     }
    }
   }
  },
  "language_info": {
   "name": "python"
  }
 },
 "nbformat": 4,
 "nbformat_minor": 0
}
